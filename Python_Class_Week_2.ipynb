{
  "nbformat": 4,
  "nbformat_minor": 0,
  "metadata": {
    "colab": {
      "provenance": [],
      "authorship_tag": "ABX9TyNr/IUnIKBAXh4LGDl9cX/N",
      "include_colab_link": true
    },
    "kernelspec": {
      "name": "python3",
      "display_name": "Python 3"
    },
    "language_info": {
      "name": "python"
    }
  },
  "cells": [
    {
      "cell_type": "markdown",
      "metadata": {
        "id": "view-in-github",
        "colab_type": "text"
      },
      "source": [
        "<a href=\"https://colab.research.google.com/github/Sarasvathi24/Python-Notes-/blob/main/Python_Class_Week_2.ipynb\" target=\"_parent\"><img src=\"https://colab.research.google.com/assets/colab-badge.svg\" alt=\"Open In Colab\"/></a>"
      ]
    },
    {
      "cell_type": "markdown",
      "source": [
        "# **Set**"
      ],
      "metadata": {
        "id": "n0yqNdjgBEW6"
      }
    },
    {
      "cell_type": "code",
      "execution_count": 1,
      "metadata": {
        "colab": {
          "base_uri": "https://localhost:8080/"
        },
        "id": "t5mih6lOAcOe",
        "outputId": "efc417b2-ad84-4179-8909-2a31759a4ce9"
      },
      "outputs": [
        {
          "output_type": "execute_result",
          "data": {
            "text/plain": [
              "set"
            ]
          },
          "metadata": {},
          "execution_count": 1
        }
      ],
      "source": [
        "s1 = {8.8, 'Data Science', 99, 2.2, 'Python'}\n",
        "\n",
        "type(s1)"
      ]
    },
    {
      "cell_type": "code",
      "source": [
        "#set is important element for machine learning\n",
        "#set will delete duplicates\n",
        "#order the sequence to ascending order\n",
        "print(s1)"
      ],
      "metadata": {
        "colab": {
          "base_uri": "https://localhost:8080/"
        },
        "id": "4vxqJsDwBX2J",
        "outputId": "a6fec1a8-50af-4fa0-8b2a-321b91b00973"
      },
      "execution_count": 3,
      "outputs": [
        {
          "output_type": "stream",
          "name": "stdout",
          "text": [
            "{'Data Science', 2.2, 99, 'Python', 8.8}\n"
          ]
        }
      ]
    },
    {
      "cell_type": "code",
      "source": [
        "s2 = {20, -10, 0, 5, 99, -10, 20, 2.2, 88}\n",
        "\n",
        "print(s2)"
      ],
      "metadata": {
        "colab": {
          "base_uri": "https://localhost:8080/"
        },
        "id": "Bih7sZIoBa2T",
        "outputId": "27ecf73a-27ea-45d0-f3cb-448c745108c0"
      },
      "execution_count": 5,
      "outputs": [
        {
          "output_type": "stream",
          "name": "stdout",
          "text": [
            "{0, 2.2, 99, 20, 5, -10, 88}\n"
          ]
        }
      ]
    },
    {
      "cell_type": "code",
      "source": [
        "#ascending order\n",
        "\n",
        "s2"
      ],
      "metadata": {
        "colab": {
          "base_uri": "https://localhost:8080/"
        },
        "id": "KqK8WGnkBxr1",
        "outputId": "354494e9-d670-4a0d-e678-88346efd1e37"
      },
      "execution_count": 7,
      "outputs": [
        {
          "output_type": "execute_result",
          "data": {
            "text/plain": [
              "{-10, 0, 2.2, 5, 20, 88, 99}"
            ]
          },
          "metadata": {},
          "execution_count": 7
        }
      ]
    },
    {
      "cell_type": "code",
      "source": [
        "#For strings, set will ider from a to z\n",
        "#However, it will prioritise capital letter/the order of capital letter\n",
        "\n",
        "s3 = {'data', 'ai','ML', 'python', 'big data'}\n",
        "\n",
        "s3"
      ],
      "metadata": {
        "colab": {
          "base_uri": "https://localhost:8080/"
        },
        "id": "qpSA9aivCSfo",
        "outputId": "88e519be-2087-4386-8f1d-15b070ceb2e0"
      },
      "execution_count": 8,
      "outputs": [
        {
          "output_type": "execute_result",
          "data": {
            "text/plain": [
              "{'ML', 'ai', 'big data', 'data', 'python'}"
            ]
          },
          "metadata": {},
          "execution_count": 8
        }
      ]
    },
    {
      "cell_type": "code",
      "source": [
        "s4 = {'data', 'ai','ml', 'python', 'big data'}\n",
        "\n",
        "s4"
      ],
      "metadata": {
        "colab": {
          "base_uri": "https://localhost:8080/"
        },
        "id": "upkGXhKMC0M6",
        "outputId": "242ca2bb-d5a2-447c-aee8-fe50f51a4a44"
      },
      "execution_count": 9,
      "outputs": [
        {
          "output_type": "execute_result",
          "data": {
            "text/plain": [
              "{'ai', 'big data', 'data', 'ml', 'python'}"
            ]
          },
          "metadata": {},
          "execution_count": 9
        }
      ]
    },
    {
      "cell_type": "code",
      "source": [
        "s5 = {'Data', 'ai','ml', 'Python', 'Big data'}\n",
        "\n",
        "s5"
      ],
      "metadata": {
        "colab": {
          "base_uri": "https://localhost:8080/"
        },
        "id": "JlEh9G3EDIet",
        "outputId": "da4510f7-5ae5-4cb0-9d4f-9a7801feae33"
      },
      "execution_count": 10,
      "outputs": [
        {
          "output_type": "execute_result",
          "data": {
            "text/plain": [
              "{'Big data', 'Data', 'Python', 'ai', 'ml'}"
            ]
          },
          "metadata": {},
          "execution_count": 10
        }
      ]
    },
    {
      "cell_type": "code",
      "source": [
        "#add\n",
        "#still follow the order/sequence\n",
        "#if mix integer float and string, set will arrange order and prioritise integer and float first but sometimes not - tough to know WHY\n",
        "s5.add('deel learning')\n",
        "\n",
        "s5"
      ],
      "metadata": {
        "colab": {
          "base_uri": "https://localhost:8080/"
        },
        "id": "gLqpDAJ9DS4Y",
        "outputId": "51571678-e468-4386-cc90-203254fb085f"
      },
      "execution_count": 11,
      "outputs": [
        {
          "output_type": "execute_result",
          "data": {
            "text/plain": [
              "{'Big data', 'Data', 'Python', 'ai', 'deel learning', 'ml'}"
            ]
          },
          "metadata": {},
          "execution_count": 11
        }
      ]
    },
    {
      "cell_type": "code",
      "source": [
        "s2"
      ],
      "metadata": {
        "colab": {
          "base_uri": "https://localhost:8080/"
        },
        "id": "YMIPiPDLD0yA",
        "outputId": "42db44f8-ceda-4e43-d687-c1c960c10128"
      },
      "execution_count": 12,
      "outputs": [
        {
          "output_type": "execute_result",
          "data": {
            "text/plain": [
              "{-10, 0, 2.2, 5, 20, 88, 99}"
            ]
          },
          "metadata": {},
          "execution_count": 12
        }
      ]
    },
    {
      "cell_type": "code",
      "source": [
        "s2.add(10)\n",
        "\n",
        "s2"
      ],
      "metadata": {
        "colab": {
          "base_uri": "https://localhost:8080/"
        },
        "id": "OOZaSZuuEpVb",
        "outputId": "b7719d68-6e01-41fd-90b5-40d1fe33eaf3"
      },
      "execution_count": 14,
      "outputs": [
        {
          "output_type": "execute_result",
          "data": {
            "text/plain": [
              "{-10, 0, 2.2, 5, 10, 20, 88, 99}"
            ]
          },
          "metadata": {},
          "execution_count": 14
        }
      ]
    },
    {
      "cell_type": "code",
      "source": [
        "#remove\n",
        "\n",
        "s2.remove(88)\n",
        "\n",
        "s2"
      ],
      "metadata": {
        "colab": {
          "base_uri": "https://localhost:8080/"
        },
        "id": "WQsNhrA0Er4p",
        "outputId": "d7f8b51b-7652-4622-b480-5b33c6a95b9a"
      },
      "execution_count": 15,
      "outputs": [
        {
          "output_type": "execute_result",
          "data": {
            "text/plain": [
              "{-10, 0, 2.2, 5, 10, 20, 99}"
            ]
          },
          "metadata": {},
          "execution_count": 15
        }
      ]
    },
    {
      "cell_type": "code",
      "source": [
        "#intersection - having 2 sets and finding common items in 2 sets\n",
        "\n",
        "set_a = {1, 3, 5, 7, 8, 9, 10, 11, 12, 13, 14} #actual data\n",
        "set_b = {1, 2, 3, 4, 5, 6, 7, 8, 9, 10, 11}    #predictive data\n",
        "\n",
        "set_a.intersection(set_b)                     # we use for evaluation - how well the model predicts (the result is the performance of the model)"
      ],
      "metadata": {
        "colab": {
          "base_uri": "https://localhost:8080/"
        },
        "id": "9-W4d25OFgLv",
        "outputId": "72101323-f9a5-4594-8a5d-7b868a3fb1d7"
      },
      "execution_count": 16,
      "outputs": [
        {
          "output_type": "execute_result",
          "data": {
            "text/plain": [
              "{1, 3, 5, 7, 8, 9, 10, 11}"
            ]
          },
          "metadata": {},
          "execution_count": 16
        }
      ]
    },
    {
      "cell_type": "code",
      "source": [
        "#union - combining 2 sets\n",
        "#removes duplicates (intersection)\n",
        "\n",
        "set_a.union(set_b)"
      ],
      "metadata": {
        "colab": {
          "base_uri": "https://localhost:8080/"
        },
        "id": "au4q6pUwG-LN",
        "outputId": "2726961a-60bf-4d29-eba3-9bb0b24e3fe1"
      },
      "execution_count": 17,
      "outputs": [
        {
          "output_type": "execute_result",
          "data": {
            "text/plain": [
              "{1, 2, 3, 4, 5, 6, 7, 8, 9, 10, 11, 12, 13, 14}"
            ]
          },
          "metadata": {},
          "execution_count": 17
        }
      ]
    },
    {
      "cell_type": "code",
      "source": [
        "list_a = [1,2,3,4,1,2,5]\n",
        "\n",
        "set_list_a = set(list_a)\n",
        "\n",
        "set_list_a"
      ],
      "metadata": {
        "colab": {
          "base_uri": "https://localhost:8080/"
        },
        "id": "ve5aHvoXHzcP",
        "outputId": "591ce8b6-da64-4167-8b85-a91ea8e04132"
      },
      "execution_count": 18,
      "outputs": [
        {
          "output_type": "execute_result",
          "data": {
            "text/plain": [
              "{1, 2, 3, 4, 5}"
            ]
          },
          "metadata": {},
          "execution_count": 18
        }
      ]
    },
    {
      "cell_type": "code",
      "source": [
        "#write a code to find the highest value in a list of numbers by using set only\n",
        "\n",
        "list_b = [100, -99, 101, 88, 55.6, 0]\n",
        "\n",
        "set_list_b = set(list_b)\n",
        "\n",
        "set_list_b"
      ],
      "metadata": {
        "colab": {
          "base_uri": "https://localhost:8080/"
        },
        "id": "PKEYbM8pIm0k",
        "outputId": "323a606e-7e72-40db-b5fa-c39176e8d681"
      },
      "execution_count": 19,
      "outputs": [
        {
          "output_type": "execute_result",
          "data": {
            "text/plain": [
              "{-99, 0, 55.6, 88, 100, 101}"
            ]
          },
          "metadata": {},
          "execution_count": 19
        }
      ]
    },
    {
      "cell_type": "code",
      "source": [
        "# 2 Methods:\n",
        "#need to change back to list since it is sorted in set and then identify the highest value\n",
        "#use function max\n",
        "\n",
        "list_set_list_b = list(set_list_b)\n",
        "\n",
        "print(list_set_list_b)\n",
        "\n",
        "print('The highest value is', list_set_list_b[-1])"
      ],
      "metadata": {
        "colab": {
          "base_uri": "https://localhost:8080/"
        },
        "id": "E6ybkn-GJG6i",
        "outputId": "5af8f4f0-17a6-4c8d-e5c0-0655336ba82f"
      },
      "execution_count": 27,
      "outputs": [
        {
          "output_type": "stream",
          "name": "stdout",
          "text": [
            "[0, 100, 101, 55.6, 88, -99]\n",
            "The highest value is -99\n"
          ]
        }
      ]
    },
    {
      "cell_type": "code",
      "source": [
        "#Method 2:\n",
        "print(max(set_list_b))"
      ],
      "metadata": {
        "colab": {
          "base_uri": "https://localhost:8080/"
        },
        "id": "80qoKeYIJbff",
        "outputId": "3288af53-d6d2-4eb9-acbb-22b08ff7e4eb"
      },
      "execution_count": 23,
      "outputs": [
        {
          "output_type": "stream",
          "name": "stdout",
          "text": [
            "101\n"
          ]
        }
      ]
    },
    {
      "cell_type": "code",
      "source": [
        "#difference - the items are there in set A (actual result) but not in set B (predictive model)\n",
        "#so the model mispredicted\n",
        "\n",
        "set_a.difference(set_b)"
      ],
      "metadata": {
        "colab": {
          "base_uri": "https://localhost:8080/"
        },
        "id": "aaH-addtKJD_",
        "outputId": "c01d0480-cebb-4a2b-b098-0e7d82b2fc84"
      },
      "execution_count": 28,
      "outputs": [
        {
          "output_type": "execute_result",
          "data": {
            "text/plain": [
              "{12, 13, 14}"
            ]
          },
          "metadata": {},
          "execution_count": 28
        }
      ]
    },
    {
      "cell_type": "code",
      "source": [
        "#incorrectly predicted (have in predictive result - set B but not in actual result - set A)\n",
        "#to get 100% - set A & set B should be the same\n",
        "#However in machine learning and dealing with big data, there is no 100% result which is fine and relevant\n",
        "\n",
        "set_b.difference(set_a)"
      ],
      "metadata": {
        "colab": {
          "base_uri": "https://localhost:8080/"
        },
        "id": "Ldx1_X-VMnG7",
        "outputId": "0cecdbe0-9bb3-47e1-d9d8-05b6b70ff7cf"
      },
      "execution_count": 31,
      "outputs": [
        {
          "output_type": "execute_result",
          "data": {
            "text/plain": [
              "{2, 4, 6}"
            ]
          },
          "metadata": {},
          "execution_count": 31
        }
      ]
    },
    {
      "cell_type": "markdown",
      "source": [
        "# **Dictionary**\n",
        "\n",
        "\n",
        "\n",
        "*   Each item in the dictionary is presenting 2 things: Key & Value\n",
        "*   Key : Value\n",
        "*   Dictionary: {key1:value1 , key2:value2,....key:value}\n",
        "\n",
        "\n",
        "\n",
        "\n",
        "\n"
      ],
      "metadata": {
        "id": "WpKu1P_4OQVm"
      }
    },
    {
      "cell_type": "code",
      "source": [
        "# 3 items and 3 values - item is the key\n",
        "# Hence, the key should be unique to identify the values\n",
        "d1 = {'AI': 99, 8.8:['ML', 'DL'], (1,2,3): ['Big Data']}\n",
        "\n",
        "d1\n",
        "\n"
      ],
      "metadata": {
        "colab": {
          "base_uri": "https://localhost:8080/"
        },
        "id": "5xl0AynRNFLL",
        "outputId": "6ea5e693-770d-483f-be88-bb3c895aae06"
      },
      "execution_count": 32,
      "outputs": [
        {
          "output_type": "execute_result",
          "data": {
            "text/plain": [
              "{'AI': 99, 8.8: ['ML', 'DL'], (1, 2, 3): ['Big Data']}"
            ]
          },
          "metadata": {},
          "execution_count": 32
        }
      ]
    },
    {
      "cell_type": "code",
      "source": [
        "type(d1)"
      ],
      "metadata": {
        "colab": {
          "base_uri": "https://localhost:8080/"
        },
        "id": "Bw9C_NQwPa5h",
        "outputId": "86107314-584f-4d8e-e169-67e9304c6c2e"
      },
      "execution_count": 33,
      "outputs": [
        {
          "output_type": "execute_result",
          "data": {
            "text/plain": [
              "dict"
            ]
          },
          "metadata": {},
          "execution_count": 33
        }
      ]
    },
    {
      "cell_type": "code",
      "source": [
        "#each key is the index in the dictionary\n",
        "\n",
        "d1['AI']"
      ],
      "metadata": {
        "colab": {
          "base_uri": "https://localhost:8080/"
        },
        "id": "9ScPg4aTPjQ_",
        "outputId": "5118126f-31e7-4e75-d400-41fcdf04d277"
      },
      "execution_count": 34,
      "outputs": [
        {
          "output_type": "execute_result",
          "data": {
            "text/plain": [
              "99"
            ]
          },
          "metadata": {},
          "execution_count": 34
        }
      ]
    },
    {
      "cell_type": "code",
      "source": [
        "#key error - no key as 99\n",
        "d1[99]\n"
      ],
      "metadata": {
        "colab": {
          "base_uri": "https://localhost:8080/",
          "height": 146
        },
        "id": "pnpgiCmcRIRv",
        "outputId": "4067477a-3d0e-488d-f9d4-ae3b893eed66"
      },
      "execution_count": 38,
      "outputs": [
        {
          "output_type": "error",
          "ename": "KeyError",
          "evalue": "99",
          "traceback": [
            "\u001b[0;31m---------------------------------------------------------------------------\u001b[0m",
            "\u001b[0;31mKeyError\u001b[0m                                  Traceback (most recent call last)",
            "\u001b[0;32m<ipython-input-38-d6cd65fa53d0>\u001b[0m in \u001b[0;36m<cell line: 1>\u001b[0;34m()\u001b[0m\n\u001b[0;32m----> 1\u001b[0;31m \u001b[0md1\u001b[0m\u001b[0;34m[\u001b[0m\u001b[0;36m99\u001b[0m\u001b[0;34m]\u001b[0m\u001b[0;34m\u001b[0m\u001b[0;34m\u001b[0m\u001b[0m\n\u001b[0m",
            "\u001b[0;31mKeyError\u001b[0m: 99"
          ]
        }
      ]
    },
    {
      "cell_type": "code",
      "source": [
        "#calling only the keys\n",
        "d1.keys()"
      ],
      "metadata": {
        "colab": {
          "base_uri": "https://localhost:8080/"
        },
        "id": "4aJzuf9FQd_J",
        "outputId": "991522db-8ce6-4fe8-e086-9e481eaea4e7"
      },
      "execution_count": 35,
      "outputs": [
        {
          "output_type": "execute_result",
          "data": {
            "text/plain": [
              "dict_keys(['AI', 8.8, (1, 2, 3)])"
            ]
          },
          "metadata": {},
          "execution_count": 35
        }
      ]
    },
    {
      "cell_type": "code",
      "source": [
        "#calling only the values in the dictionary\n",
        "d1.values()"
      ],
      "metadata": {
        "colab": {
          "base_uri": "https://localhost:8080/"
        },
        "id": "GgrXtobNQn24",
        "outputId": "8b7f4c13-a7f4-472d-8fec-593daea76f8a"
      },
      "execution_count": 36,
      "outputs": [
        {
          "output_type": "execute_result",
          "data": {
            "text/plain": [
              "dict_values([99, ['ML', 'DL'], ['Big Data']])"
            ]
          },
          "metadata": {},
          "execution_count": 36
        }
      ]
    },
    {
      "cell_type": "code",
      "source": [
        "#use the key to update data\n",
        "d1['AI'] = -10\n",
        "\n",
        "d1"
      ],
      "metadata": {
        "colab": {
          "base_uri": "https://localhost:8080/"
        },
        "id": "2NG8FjfrRD05",
        "outputId": "38628109-b28a-4b11-b044-6652bdb119c7"
      },
      "execution_count": 40,
      "outputs": [
        {
          "output_type": "execute_result",
          "data": {
            "text/plain": [
              "{'AI': -10, 8.8: ['ML', 'DL'], (1, 2, 3): ['Big Data']}"
            ]
          },
          "metadata": {},
          "execution_count": 40
        }
      ]
    },
    {
      "cell_type": "code",
      "source": [
        "#deleting the item by mentioning it\n",
        "d1.pop((1,2,3))\n",
        "\n",
        "d1"
      ],
      "metadata": {
        "colab": {
          "base_uri": "https://localhost:8080/"
        },
        "id": "Fts9n8bTRV5u",
        "outputId": "e4c71ae7-8d44-4846-c4e2-8fdfc1205755"
      },
      "execution_count": 41,
      "outputs": [
        {
          "output_type": "execute_result",
          "data": {
            "text/plain": [
              "{'AI': -10, 8.8: ['ML', 'DL']}"
            ]
          },
          "metadata": {},
          "execution_count": 41
        }
      ]
    },
    {
      "cell_type": "code",
      "source": [
        "#key cannot be a list because its mutable, tuple can since its immutable\n",
        "#key has to be unique\n",
        "\n",
        "d2 = {[1,2]:99, (100,200):['obay']}\n",
        "\n",
        "d2"
      ],
      "metadata": {
        "colab": {
          "base_uri": "https://localhost:8080/",
          "height": 183
        },
        "id": "43sxqEexRtoz",
        "outputId": "62714984-1212-4aea-bd57-e6b118fef84d"
      },
      "execution_count": 42,
      "outputs": [
        {
          "output_type": "error",
          "ename": "TypeError",
          "evalue": "unhashable type: 'list'",
          "traceback": [
            "\u001b[0;31m---------------------------------------------------------------------------\u001b[0m",
            "\u001b[0;31mTypeError\u001b[0m                                 Traceback (most recent call last)",
            "\u001b[0;32m<ipython-input-42-69c4ecea5ea9>\u001b[0m in \u001b[0;36m<cell line: 1>\u001b[0;34m()\u001b[0m\n\u001b[0;32m----> 1\u001b[0;31m \u001b[0md2\u001b[0m \u001b[0;34m=\u001b[0m \u001b[0;34m{\u001b[0m\u001b[0;34m[\u001b[0m\u001b[0;36m1\u001b[0m\u001b[0;34m,\u001b[0m\u001b[0;36m2\u001b[0m\u001b[0;34m]\u001b[0m\u001b[0;34m:\u001b[0m\u001b[0;36m99\u001b[0m\u001b[0;34m,\u001b[0m \u001b[0;34m(\u001b[0m\u001b[0;36m100\u001b[0m\u001b[0;34m,\u001b[0m\u001b[0;36m200\u001b[0m\u001b[0;34m)\u001b[0m\u001b[0;34m:\u001b[0m\u001b[0;34m[\u001b[0m\u001b[0;34m'obay'\u001b[0m\u001b[0;34m]\u001b[0m\u001b[0;34m}\u001b[0m\u001b[0;34m\u001b[0m\u001b[0;34m\u001b[0m\u001b[0m\n\u001b[0m\u001b[1;32m      2\u001b[0m \u001b[0;34m\u001b[0m\u001b[0m\n\u001b[1;32m      3\u001b[0m \u001b[0md2\u001b[0m\u001b[0;34m\u001b[0m\u001b[0;34m\u001b[0m\u001b[0m\n",
            "\u001b[0;31mTypeError\u001b[0m: unhashable type: 'list'"
          ]
        }
      ]
    },
    {
      "cell_type": "code",
      "source": [
        "d3 = {(1,2):99, (100,200):['obay']}\n",
        "\n",
        "d3"
      ],
      "metadata": {
        "colab": {
          "base_uri": "https://localhost:8080/"
        },
        "id": "31IRK_gFSJJ7",
        "outputId": "cb49a872-3552-4361-bbd5-a0eaa98a3d02"
      },
      "execution_count": 43,
      "outputs": [
        {
          "output_type": "execute_result",
          "data": {
            "text/plain": [
              "{(1, 2): 99, (100, 200): ['obay']}"
            ]
          },
          "metadata": {},
          "execution_count": 43
        }
      ]
    },
    {
      "cell_type": "code",
      "source": [],
      "metadata": {
        "id": "bIFYKA4XSW-_"
      },
      "execution_count": null,
      "outputs": []
    },
    {
      "cell_type": "markdown",
      "source": [
        "# **if statement, elif statement, else **"
      ],
      "metadata": {
        "id": "L10JusqGTR5W"
      }
    },
    {
      "cell_type": "code",
      "source": [
        "#indentation = space\n",
        "country = 'Malaysia'\n",
        "\n",
        "if country == 'Malaysia': #colon means True/False\n",
        "  print('Country is Malaysia')"
      ],
      "metadata": {
        "colab": {
          "base_uri": "https://localhost:8080/"
        },
        "id": "cA_jJNOhTZKl",
        "outputId": "2df50e9c-9648-4e3a-ff0b-bd05b45503fc"
      },
      "execution_count": 44,
      "outputs": [
        {
          "output_type": "stream",
          "name": "stdout",
          "text": [
            "Country is Malaysia\n"
          ]
        }
      ]
    },
    {
      "cell_type": "code",
      "source": [
        "country = 'Malaysia'\n",
        "\n",
        "if country == 'Singapore': #False - since its false python will not process next line\n",
        "  print('Country is Singapore')"
      ],
      "metadata": {
        "id": "xgkVKQ2vUBj8"
      },
      "execution_count": 45,
      "outputs": []
    },
    {
      "cell_type": "code",
      "source": [
        "country = 'Malaysia'\n",
        "\n",
        "if country == 'Singapore': #False\n",
        "  print('Country is Singapore')\n",
        "\n",
        "else:\n",
        "  print('Country is Malaysia')"
      ],
      "metadata": {
        "colab": {
          "base_uri": "https://localhost:8080/"
        },
        "id": "2dA1wDOyUbWc",
        "outputId": "e15abab1-06de-43aa-a945-34daeaf49f4f"
      },
      "execution_count": 46,
      "outputs": [
        {
          "output_type": "stream",
          "name": "stdout",
          "text": [
            "Country is Malaysia\n"
          ]
        }
      ]
    },
    {
      "cell_type": "code",
      "source": [
        "#else is the last result if both 'if' and 'elif' doesnt work/False\n",
        "country = 'Malaysia'\n",
        "\n",
        "if country == 'Singapore': #False\n",
        "  print('Country is Singapore')\n",
        "\n",
        "elif country == 'Thailand':#False\n",
        "  print('Country is Thailand')\n",
        "\n",
        "else:\n",
        "  print('Country is Malaysia')"
      ],
      "metadata": {
        "colab": {
          "base_uri": "https://localhost:8080/"
        },
        "id": "lrNy0L0fVBoC",
        "outputId": "3fbbec32-b335-4a06-84b8-be0add9ac296"
      },
      "execution_count": 47,
      "outputs": [
        {
          "output_type": "stream",
          "name": "stdout",
          "text": [
            "Country is Malaysia\n"
          ]
        }
      ]
    },
    {
      "cell_type": "code",
      "source": [
        "#can have more than 1 elif\n",
        "country = 'Malaysia'\n",
        "\n",
        "if country == 'Singapore': #False\n",
        "  print('Country is Singapore')\n",
        "\n",
        "elif country == 'Thailand':#False\n",
        "  print('Country is Thailand')\n",
        "\n",
        "elif country != 'Singapore':#True - country is not Singapore !=\n",
        "  print('Country is unknown')\n",
        "\n",
        "#the elif condition is already done, so Python will skip else statement\n",
        "else:\n",
        "  print('Country is Malaysia')"
      ],
      "metadata": {
        "colab": {
          "base_uri": "https://localhost:8080/"
        },
        "id": "2cqhAQiMVXfl",
        "outputId": "944ff171-2a5a-41f4-8a32-11016c85ad99"
      },
      "execution_count": 48,
      "outputs": [
        {
          "output_type": "stream",
          "name": "stdout",
          "text": [
            "Country is unknown\n"
          ]
        }
      ]
    },
    {
      "cell_type": "markdown",
      "source": [
        "<img src=\"https://s3-api.us-geo.objectstorage.softlayer.net/cf-courses-data/CognitiveClass/PY0101EN/Chapter%203/Images/CondsTable.png\" width=\"650\" />\n",
        "\n",
        "\n",
        "\n",
        "*   and - if both statement True or both statement False\n",
        "*   or - either 1 is True or either 1 is False\n",
        "\n"
      ],
      "metadata": {
        "id": "i7H0l8HQWkaV"
      }
    },
    {
      "cell_type": "code",
      "source": [
        "#\n",
        "country = 'Malaysia'\n",
        "year = 2024\n",
        "\n",
        "if country == 'Malaysia' and year == 2020: #False\n",
        "  print('Country is Malaysia and year is 2020')\n",
        "\n",
        "\n"
      ],
      "metadata": {
        "id": "P8BtIEZNWjJV"
      },
      "execution_count": 50,
      "outputs": []
    },
    {
      "cell_type": "code",
      "source": [
        "country = 'Malaysia'\n",
        "year = 2024\n",
        "\n",
        "if country == 'Malaysia' or year == 2020: #either 1 is true\n",
        "  print('Country is Malaysia and year is 2020')\n"
      ],
      "metadata": {
        "colab": {
          "base_uri": "https://localhost:8080/"
        },
        "id": "aZW2oli9XYdt",
        "outputId": "9910d283-4499-405f-96ee-a8813d01091c"
      },
      "execution_count": 51,
      "outputs": [
        {
          "output_type": "stream",
          "name": "stdout",
          "text": [
            "Country is Malaysia and year is 2020\n"
          ]
        }
      ]
    },
    {
      "cell_type": "code",
      "source": [
        "#use the > symbol\n",
        "country = 'Malaysia'\n",
        "year = 2024\n",
        "\n",
        "if country == 'Malaysia' or year > 2020: #either 1 is true\n",
        "  print('Country is Malaysia and year is 2020')"
      ],
      "metadata": {
        "colab": {
          "base_uri": "https://localhost:8080/"
        },
        "id": "RkGYGZdPYC4s",
        "outputId": "c7e3269e-1c37-42a0-909f-6197ae63f5bd"
      },
      "execution_count": 52,
      "outputs": [
        {
          "output_type": "stream",
          "name": "stdout",
          "text": [
            "Country is Malaysia and year is 2020\n"
          ]
        }
      ]
    },
    {
      "cell_type": "code",
      "source": [
        "country = 'Malaysia'\n",
        "year = 2024\n",
        "\n",
        "if country == 'Malaysia' and year == 2020: #False\n",
        "  print('Country is Malaysia and year is 2020')\n",
        "\n",
        "elif country == 'Malaysia' and year > 2020:#True\n",
        "  print('Country is Malaysia and year is earlier than 2020')"
      ],
      "metadata": {
        "colab": {
          "base_uri": "https://localhost:8080/"
        },
        "id": "DZ_NA_xXYSG5",
        "outputId": "e7a5cb1a-41de-4efa-f8e6-943d980c72f9"
      },
      "execution_count": 53,
      "outputs": [
        {
          "output_type": "stream",
          "name": "stdout",
          "text": [
            "Country is Malaysia and year is earlier than 2020\n"
          ]
        }
      ]
    },
    {
      "cell_type": "code",
      "source": [
        "#write a code for finding the even and odd numbers\n",
        "\n",
        "num = 11\n",
        "\n",
        "if num % 2 == 0:\n",
        "  print('the number is even')\n",
        "else:\n",
        "  print('the number is odd')"
      ],
      "metadata": {
        "colab": {
          "base_uri": "https://localhost:8080/"
        },
        "id": "WgGTmgqGfm7b",
        "outputId": "34903ebc-710e-4503-a913-92ee733979c4"
      },
      "execution_count": 55,
      "outputs": [
        {
          "output_type": "stream",
          "name": "stdout",
          "text": [
            "the number is odd\n"
          ]
        }
      ]
    },
    {
      "cell_type": "code",
      "source": [
        "#we calculate by inserting input\n",
        "\n",
        "input_num = input('Enter a number: ')\n",
        "\n",
        "input_num = int(input_num)\n",
        "\n",
        "if num % 2 == 0:\n",
        "  print('the number is even')\n",
        "else:\n",
        "  print('the number is odd')"
      ],
      "metadata": {
        "colab": {
          "base_uri": "https://localhost:8080/"
        },
        "id": "cBKYvIkriV17",
        "outputId": "0ce6dbac-228b-4125-e894-6a6e59025511"
      },
      "execution_count": 57,
      "outputs": [
        {
          "output_type": "stream",
          "name": "stdout",
          "text": [
            "Enter a number: 9\n",
            "the number is odd\n"
          ]
        }
      ]
    },
    {
      "cell_type": "code",
      "source": [
        "#nested if. elif, else statements\n",
        "\n",
        "price = 1000\n",
        "car = 'Proton'\n",
        "\n",
        "if price > 500: #True\n",
        "  if price == 700: #False\n",
        "    print('The price is more than 700')\n",
        "\n",
        "  else:\n",
        "    if price == 100 or car == 'Proton': #True\n",
        "      print('Car is Proton')\n",
        "\n",
        "    else:\n",
        "      print('Price and Car are unknown')\n",
        "\n"
      ],
      "metadata": {
        "colab": {
          "base_uri": "https://localhost:8080/"
        },
        "id": "WpdQ_2-fixWU",
        "outputId": "d2c8eada-09a6-476c-bde0-f1a726454462"
      },
      "execution_count": 59,
      "outputs": [
        {
          "output_type": "stream",
          "name": "stdout",
          "text": [
            "Car is Proton\n"
          ]
        }
      ]
    },
    {
      "cell_type": "code",
      "source": [
        "#case sensitive - small p for proton\n",
        "price = 1000\n",
        "car = 'Proton'\n",
        "\n",
        "if price > 500: #True\n",
        "  if price == 700: #False\n",
        "    print('The price is more than 700') #1 block of code(nested statement - indentation - 1 tab or 4 spaces)\n",
        "\n",
        "  else:\n",
        "    if price == 100 or car == 'proton': #True\n",
        "      print('Car is Proton') #another block of code\n",
        "\n",
        "    else:\n",
        "      print('Price and Car are unknown')"
      ],
      "metadata": {
        "colab": {
          "base_uri": "https://localhost:8080/"
        },
        "id": "Zrd6ckhQkFpj",
        "outputId": "935551f0-f01b-43ea-d9c2-9bd2865ff66a"
      },
      "execution_count": 61,
      "outputs": [
        {
          "output_type": "stream",
          "name": "stdout",
          "text": [
            "Price and Car are unknown\n"
          ]
        }
      ]
    },
    {
      "cell_type": "code",
      "source": [
        "#can use this method but this is not nested statement\n",
        "price = 1000\n",
        "car = 'Proton'\n",
        "\n",
        "if price < 500:\n",
        "  print('The price exceeds')\n",
        "elif price == 700: #False\n",
        "  print('The price is more than 700') #1 block of code\n",
        "\n",
        "elif price == 1000:\n",
        " print('Car is Proton') #another block of code\n",
        "\n",
        "else:\n",
        "  print('Price and Car are unknown')"
      ],
      "metadata": {
        "colab": {
          "base_uri": "https://localhost:8080/"
        },
        "id": "mOSelOmZkZfl",
        "outputId": "c9ee1b9d-8fb6-486f-f450-f6f35ef547ba"
      },
      "execution_count": 66,
      "outputs": [
        {
          "output_type": "stream",
          "name": "stdout",
          "text": [
            "Car is Proton\n"
          ]
        }
      ]
    },
    {
      "cell_type": "markdown",
      "source": [
        "# **Loops and While Loops**"
      ],
      "metadata": {
        "id": "ohmMqnH-obw4"
      }
    },
    {
      "cell_type": "code",
      "source": [
        "#repeating the same block of code until get the final result\n",
        "\n",
        "list_num = [100, 200, 300, 400, 500]\n",
        "\n",
        "print(list_num[0])\n",
        "print(list_num[1])\n",
        "print(list_num[2])\n",
        "print(list_num[3])\n",
        "print(list_num[4])"
      ],
      "metadata": {
        "colab": {
          "base_uri": "https://localhost:8080/"
        },
        "id": "9Tq8mvaZlfMu",
        "outputId": "11ba7a49-d4aa-4f48-a311-ee7fdd44012c"
      },
      "execution_count": 67,
      "outputs": [
        {
          "output_type": "stream",
          "name": "stdout",
          "text": [
            "100\n",
            "200\n",
            "300\n",
            "400\n",
            "500\n"
          ]
        }
      ]
    },
    {
      "cell_type": "markdown",
      "source": [
        "**For Loop**"
      ],
      "metadata": {
        "id": "h8Wv29UjpBAS"
      }
    },
    {
      "cell_type": "code",
      "source": [
        "list_num"
      ],
      "metadata": {
        "colab": {
          "base_uri": "https://localhost:8080/"
        },
        "id": "9vXgw9Xwo-nZ",
        "outputId": "3795a36d-8523-4e19-bd39-639c412f13f8"
      },
      "execution_count": 68,
      "outputs": [
        {
          "output_type": "execute_result",
          "data": {
            "text/plain": [
              "[100, 200, 300, 400, 500]"
            ]
          },
          "metadata": {},
          "execution_count": 68
        }
      ]
    },
    {
      "cell_type": "code",
      "source": [
        "#run based on the number of items\n",
        "#instead of writing for each of the item, can use for loop\n",
        "\n",
        "for i in list_num: #100 (first run) #200 (second run since first one is done) #300 #400 #500 (for loop will come again to run another item, since no more then it will stop automatically)\n",
        "  print(i)"
      ],
      "metadata": {
        "colab": {
          "base_uri": "https://localhost:8080/"
        },
        "id": "JbSoBUU1pFSM",
        "outputId": "bf72d484-a05c-4942-b936-746cb8be90d4"
      },
      "execution_count": 69,
      "outputs": [
        {
          "output_type": "stream",
          "name": "stdout",
          "text": [
            "100\n",
            "200\n",
            "300\n",
            "400\n",
            "500\n"
          ]
        }
      ]
    },
    {
      "cell_type": "code",
      "source": [
        "#range -  to count numbers\n",
        "\n",
        "for num in range (1, 10):\n",
        "  print(num)"
      ],
      "metadata": {
        "colab": {
          "base_uri": "https://localhost:8080/"
        },
        "id": "SLITn-PCpr8E",
        "outputId": "cad6fd6d-39a6-48d3-fdfd-8dac7b4d93ff"
      },
      "execution_count": 70,
      "outputs": [
        {
          "output_type": "stream",
          "name": "stdout",
          "text": [
            "1\n",
            "2\n",
            "3\n",
            "4\n",
            "5\n",
            "6\n",
            "7\n",
            "8\n",
            "9\n"
          ]
        }
      ]
    },
    {
      "cell_type": "code",
      "source": [
        "numbers = [1,2,3,4,5,6]\n",
        "#write a code to print all the numbers below 5\n",
        "#we set conditions\n",
        "#it will start count after the number we assign\n",
        "for num in numbers:\n",
        "  if num < 5:\n",
        "    print(num)"
      ],
      "metadata": {
        "colab": {
          "base_uri": "https://localhost:8080/"
        },
        "id": "u1uZ0JCAqnQb",
        "outputId": "4d2ab702-4563-44c4-b247-16f64a242c45"
      },
      "execution_count": 73,
      "outputs": [
        {
          "output_type": "stream",
          "name": "stdout",
          "text": [
            "1\n",
            "2\n",
            "3\n",
            "4\n"
          ]
        }
      ]
    },
    {
      "cell_type": "code",
      "source": [
        "for num in range(1,6):\n",
        "  if num != 5:\n",
        "    print(num)\n"
      ],
      "metadata": {
        "colab": {
          "base_uri": "https://localhost:8080/"
        },
        "id": "jrOgzqhOrNtC",
        "outputId": "bdfaf09c-62ce-4b39-920a-9914c27017ba"
      },
      "execution_count": 84,
      "outputs": [
        {
          "output_type": "stream",
          "name": "stdout",
          "text": [
            "1\n",
            "2\n",
            "3\n",
            "4\n"
          ]
        }
      ]
    },
    {
      "cell_type": "code",
      "source": [
        "#to get both keys and values, use items()function\n",
        "#if only keys, then can print straight away or can use function .keys()\n",
        "#if onluy values, then values()\n",
        "\n",
        "numbers = {1:(1,2), 2:[3,4],'AI':(1,2.2,3)}\n",
        "\n",
        "for num in numbers.items():\n",
        "    print(num)"
      ],
      "metadata": {
        "colab": {
          "base_uri": "https://localhost:8080/"
        },
        "id": "in0q18JwsWJF",
        "outputId": "ebae0081-f670-4104-9d40-dae6cc09b3c5"
      },
      "execution_count": 98,
      "outputs": [
        {
          "output_type": "stream",
          "name": "stdout",
          "text": [
            "(1, (1, 2))\n",
            "(2, [3, 4])\n",
            "('AI', (1, 2.2, 3))\n"
          ]
        }
      ]
    },
    {
      "cell_type": "code",
      "source": [
        "numbers = {1:(1,2), 2:[3,4],'AI':(1,2.2,3)}\n",
        "\n",
        "for num in numbers.keys():\n",
        "    print(num)"
      ],
      "metadata": {
        "colab": {
          "base_uri": "https://localhost:8080/"
        },
        "id": "2O2_s2mZDlGa",
        "outputId": "e48fbd13-9f59-453a-aa34-b3cc579177b5"
      },
      "execution_count": 101,
      "outputs": [
        {
          "output_type": "stream",
          "name": "stdout",
          "text": [
            "1\n",
            "2\n",
            "AI\n"
          ]
        }
      ]
    },
    {
      "cell_type": "code",
      "source": [
        "numbers1 = [-1,2,1,3,5,4,0]\n",
        "\n",
        "#write a code to print all the numbers below 5\n",
        "\n",
        "for i in numbers1:\n",
        "  if i < 5:\n",
        "    print(i)"
      ],
      "metadata": {
        "colab": {
          "base_uri": "https://localhost:8080/"
        },
        "id": "UgCdeCLfs9T1",
        "outputId": "3df40066-6f16-4c10-caaa-b10c7f22844c"
      },
      "execution_count": 100,
      "outputs": [
        {
          "output_type": "stream",
          "name": "stdout",
          "text": [
            "-1\n",
            "2\n",
            "1\n",
            "3\n",
            "4\n",
            "0\n"
          ]
        }
      ]
    },
    {
      "cell_type": "markdown",
      "source": [
        "**While loop**"
      ],
      "metadata": {
        "id": "9T_8kx7kCVkj"
      }
    },
    {
      "cell_type": "code",
      "source": [
        "# more difficult\n",
        "# less used than for loop\n",
        "# while loop will repeat and recalls the last output\n",
        "# write a code to print all the numbers below 3 by using while loop\n",
        "\n",
        "numbers = [1,2,3,4,5,6]\n",
        "\n",
        "i = 0 #i is index\n",
        "num = None\n",
        "\n",
        "while (num!=3): #True\n",
        "  num = numbers[i] #first index in the numbers - 1\n",
        "  i = i + 1\n",
        "  print(num)"
      ],
      "metadata": {
        "colab": {
          "base_uri": "https://localhost:8080/"
        },
        "id": "P4wq_e7XB0Fr",
        "outputId": "469174bd-409a-4fd4-cc6f-dc8981e1ca24"
      },
      "execution_count": 106,
      "outputs": [
        {
          "output_type": "stream",
          "name": "stdout",
          "text": [
            "1\n",
            "2\n",
            "3\n"
          ]
        }
      ]
    },
    {
      "cell_type": "code",
      "source": [
        "numbers = [1,2,3,4,5,6]\n",
        "\n",
        "i = 0 #i is index\n",
        "num = None\n",
        "\n",
        "while (num < 5): #True\n",
        "  num = numbers[i] #first index in the numbers - 1\n",
        "  i = i + 1\n",
        "  print(num)\n",
        "\n",
        "  #can only use = or != for the condition"
      ],
      "metadata": {
        "colab": {
          "base_uri": "https://localhost:8080/",
          "height": 219
        },
        "id": "8vc_fMsiFlf4",
        "outputId": "3883e44a-3e39-43d8-dbb2-939daa951183"
      },
      "execution_count": 105,
      "outputs": [
        {
          "output_type": "error",
          "ename": "TypeError",
          "evalue": "'<' not supported between instances of 'NoneType' and 'int'",
          "traceback": [
            "\u001b[0;31m---------------------------------------------------------------------------\u001b[0m",
            "\u001b[0;31mTypeError\u001b[0m                                 Traceback (most recent call last)",
            "\u001b[0;32m<ipython-input-105-e0d331734023>\u001b[0m in \u001b[0;36m<cell line: 6>\u001b[0;34m()\u001b[0m\n\u001b[1;32m      4\u001b[0m \u001b[0mnum\u001b[0m \u001b[0;34m=\u001b[0m \u001b[0;32mNone\u001b[0m\u001b[0;34m\u001b[0m\u001b[0;34m\u001b[0m\u001b[0m\n\u001b[1;32m      5\u001b[0m \u001b[0;34m\u001b[0m\u001b[0m\n\u001b[0;32m----> 6\u001b[0;31m \u001b[0;32mwhile\u001b[0m \u001b[0;34m(\u001b[0m\u001b[0mnum\u001b[0m \u001b[0;34m<\u001b[0m \u001b[0;36m5\u001b[0m\u001b[0;34m)\u001b[0m\u001b[0;34m:\u001b[0m \u001b[0;31m#True\u001b[0m\u001b[0;34m\u001b[0m\u001b[0;34m\u001b[0m\u001b[0m\n\u001b[0m\u001b[1;32m      7\u001b[0m   \u001b[0mnum\u001b[0m \u001b[0;34m=\u001b[0m \u001b[0mnumbers\u001b[0m\u001b[0;34m[\u001b[0m\u001b[0mi\u001b[0m\u001b[0;34m]\u001b[0m \u001b[0;31m#first index in the numbers - 1\u001b[0m\u001b[0;34m\u001b[0m\u001b[0;34m\u001b[0m\u001b[0m\n\u001b[1;32m      8\u001b[0m   \u001b[0mi\u001b[0m \u001b[0;34m=\u001b[0m \u001b[0mi\u001b[0m \u001b[0;34m+\u001b[0m \u001b[0;36m1\u001b[0m\u001b[0;34m\u001b[0m\u001b[0;34m\u001b[0m\u001b[0m\n",
            "\u001b[0;31mTypeError\u001b[0m: '<' not supported between instances of 'NoneType' and 'int'"
          ]
        }
      ]
    },
    {
      "cell_type": "code",
      "source": [
        "#nested loop\n",
        "\n",
        "names = ['Mohammed', 'Noor', 'Chyrel']\n",
        "\n",
        "for a in names: #print first item in the list\n",
        "  print(a)\n",
        "\n",
        "  for b in a:#print first letter in the item\n",
        "    print(b)\n",
        "\n",
        "  print('') #to insert space in between"
      ],
      "metadata": {
        "colab": {
          "base_uri": "https://localhost:8080/"
        },
        "id": "cOVVgTVlGp8d",
        "outputId": "a85eef8e-71e4-45f3-9946-2682745b9884"
      },
      "execution_count": 110,
      "outputs": [
        {
          "output_type": "stream",
          "name": "stdout",
          "text": [
            "Mohammed\n",
            "M\n",
            "o\n",
            "h\n",
            "a\n",
            "m\n",
            "m\n",
            "e\n",
            "d\n",
            "\n",
            "Noor\n",
            "N\n",
            "o\n",
            "o\n",
            "r\n",
            "\n",
            "Chyrel\n",
            "C\n",
            "h\n",
            "y\n",
            "r\n",
            "e\n",
            "l\n",
            "\n"
          ]
        }
      ]
    },
    {
      "cell_type": "code",
      "source": [
        "#write a code to print only even numbers in range of numbers 20\n",
        "\n",
        "for i in range (21):\n",
        "  if i%2 == 0:\n",
        "    print(i)"
      ],
      "metadata": {
        "colab": {
          "base_uri": "https://localhost:8080/"
        },
        "id": "KOB-Wg6YKS96",
        "outputId": "ffc5f68e-5f22-4b17-a670-9e870f03b75b"
      },
      "execution_count": 116,
      "outputs": [
        {
          "output_type": "stream",
          "name": "stdout",
          "text": [
            "0\n",
            "2\n",
            "4\n",
            "6\n",
            "8\n",
            "10\n",
            "12\n",
            "14\n",
            "16\n",
            "18\n",
            "20\n"
          ]
        }
      ]
    },
    {
      "cell_type": "code",
      "source": [
        "#how to put the output in a list\n",
        "list_even = []\n",
        "\n",
        "for i in range (21):\n",
        "  if i%2 == 0:\n",
        "    list_even.append(i)\n",
        "\n",
        "    print(list_even) #print is within the same loop so it will print repeatedly\n",
        "\n",
        ""
      ],
      "metadata": {
        "colab": {
          "base_uri": "https://localhost:8080/"
        },
        "id": "oZVGuWvJN9ao",
        "outputId": "83cc2f6d-ff99-4927-d291-b8df8f623577"
      },
      "execution_count": 123,
      "outputs": [
        {
          "output_type": "stream",
          "name": "stdout",
          "text": [
            "[0]\n",
            "[0, 2]\n",
            "[0, 2, 4]\n",
            "[0, 2, 4, 6]\n",
            "[0, 2, 4, 6, 8]\n",
            "[0, 2, 4, 6, 8, 10]\n",
            "[0, 2, 4, 6, 8, 10, 12]\n",
            "[0, 2, 4, 6, 8, 10, 12, 14]\n",
            "[0, 2, 4, 6, 8, 10, 12, 14, 16]\n",
            "[0, 2, 4, 6, 8, 10, 12, 14, 16, 18]\n",
            "[0, 2, 4, 6, 8, 10, 12, 14, 16, 18, 20]\n"
          ]
        }
      ]
    },
    {
      "cell_type": "code",
      "source": [
        "list_even = []\n",
        "\n",
        "for i in range (21):\n",
        "  if i%2 == 0:\n",
        "    list_even.append(i)\n",
        "\n",
        "print(list_even) #it will only print the final output\n"
      ],
      "metadata": {
        "colab": {
          "base_uri": "https://localhost:8080/"
        },
        "id": "oJ6mBcsJOQ-N",
        "outputId": "0b33ecbb-a7f5-4f3d-b72d-5c924029ed6b"
      },
      "execution_count": 124,
      "outputs": [
        {
          "output_type": "stream",
          "name": "stdout",
          "text": [
            "[0, 2, 4, 6, 8, 10, 12, 14, 16, 18, 20]\n"
          ]
        }
      ]
    },
    {
      "cell_type": "markdown",
      "source": [
        "**Question 1: Give a list of numbers, write a code to calculate the sum of even numbers in that list**"
      ],
      "metadata": {
        "id": "VH63atEzQ0HF"
      }
    },
    {
      "cell_type": "code",
      "source": [
        "\n",
        "sum_even = 0\n",
        "\n",
        "for i in range(10):\n",
        "  if i%2 == 0:\n",
        "    sum_even = sum_even + i\n",
        "\n",
        "print('The sum of all even numbers are:', sum_even)\n",
        "\n"
      ],
      "metadata": {
        "colab": {
          "base_uri": "https://localhost:8080/"
        },
        "id": "3u3iMt3wQqU6",
        "outputId": "f34b2e98-64b6-489b-af86-1954a32f1cce"
      },
      "execution_count": 134,
      "outputs": [
        {
          "output_type": "stream",
          "name": "stdout",
          "text": [
            "The sum of all even numbers are: 20\n"
          ]
        }
      ]
    },
    {
      "cell_type": "markdown",
      "source": [
        "**Question 2: Given a string, write a code to calculate the number of vowels (a,e,i,o,u) in the string.**\n",
        "\n",
        "**The string is: 'Hello World'**\n"
      ],
      "metadata": {
        "id": "aiepYrCzUPiF"
      }
    },
    {
      "cell_type": "code",
      "source": [
        "str_a = 'Hello World'\n",
        "\n",
        "for i in str_a:\n",
        "  if i == 'a' or i == 'e':\n",
        "    print(i)\n",
        "\n",
        "  elif i == 'i' or i == 'o' or i == 'u':\n",
        "    print(i)\n",
        "\n"
      ],
      "metadata": {
        "colab": {
          "base_uri": "https://localhost:8080/"
        },
        "id": "58kGqZHRRwWi",
        "outputId": "fee65099-e9e1-4dbe-930d-84e097212009"
      },
      "execution_count": 137,
      "outputs": [
        {
          "output_type": "stream",
          "name": "stdout",
          "text": [
            "e\n",
            "o\n",
            "o\n"
          ]
        }
      ]
    },
    {
      "cell_type": "code",
      "source": [
        "str_a = 'Hello World'\n",
        "vowels = ['a', 'e', 'i', 'o', 'u']\n",
        "\n",
        "for i in str_a:\n",
        "  if i in vowels:\n",
        "    print(i)\n"
      ],
      "metadata": {
        "colab": {
          "base_uri": "https://localhost:8080/"
        },
        "id": "aHx6vn_iVkUy",
        "outputId": "1a0b47d1-a1d7-4fca-ba0a-82b2607c8fcc"
      },
      "execution_count": 141,
      "outputs": [
        {
          "output_type": "stream",
          "name": "stdout",
          "text": [
            "e\n",
            "o\n",
            "o\n"
          ]
        }
      ]
    },
    {
      "cell_type": "code",
      "source": [
        "string = 'Artificial Intelligence'\n",
        "\n",
        "count_vowel = 0\n",
        "\n",
        "for vow in string.lower():\n",
        "   if vow in 'a,e,i,o,u': #the lower() function will make the all the letters in string lower case\n",
        "    count_vowel = count_vowel+1 # or we can write countvowel += 1 (to count the number of vowels)\n",
        "\n",
        "print('The number of vowels are:',count_vowel)"
      ],
      "metadata": {
        "colab": {
          "base_uri": "https://localhost:8080/"
        },
        "id": "26itreQwWDAC",
        "outputId": "4875d6cd-6f97-4ea8-cdbe-5dc64c478d5b"
      },
      "execution_count": 144,
      "outputs": [
        {
          "output_type": "stream",
          "name": "stdout",
          "text": [
            "The number of vowels are: 10\n"
          ]
        }
      ]
    },
    {
      "cell_type": "code",
      "source": [
        "string = 'Artificial Intelligence'\n",
        "\n",
        "count_vowel = 0\n",
        "\n",
        "for vow in string.upper(): #the upper() - will make all as capital letters ('ARTIFICIAL INTELLIGENCE') and run the loop\n",
        "  if vow in 'A,E,I,O,U': #make sure the vowel we assign is capital as well\n",
        "    count_vowel = count_vowel+1 # or we can write countvowel += 1\n",
        "\n",
        "print('The number of vowels are:',count_vowel)"
      ],
      "metadata": {
        "colab": {
          "base_uri": "https://localhost:8080/"
        },
        "id": "uBupgmqkXGBr",
        "outputId": "95f96e5d-813d-4d19-e558-c72e1f6a6644"
      },
      "execution_count": 145,
      "outputs": [
        {
          "output_type": "stream",
          "name": "stdout",
          "text": [
            "The number of vowels are: 0\n"
          ]
        }
      ]
    },
    {
      "cell_type": "code",
      "source": [
        "string = 'Artificial Intelligence'\n",
        "\n",
        "count_vowel = 0\n",
        "\n",
        "for vow in string: # no function is assigned, hence it will count as per the one we assign below\n",
        "  if vow in 'a,e,i,o,u': #make sure the vowel we assign is capital as well\n",
        "    count_vowel = count_vowel+1 # or we can write countvowel += 1\n",
        "\n",
        "print('The number of vowels are:',count_vowel)"
      ],
      "metadata": {
        "colab": {
          "base_uri": "https://localhost:8080/"
        },
        "id": "ZYlutGEHaORq",
        "outputId": "28ddab5a-0faf-43c0-9088-92c57e14668c"
      },
      "execution_count": 147,
      "outputs": [
        {
          "output_type": "stream",
          "name": "stdout",
          "text": [
            "The number of vowels are: 8\n"
          ]
        }
      ]
    },
    {
      "cell_type": "markdown",
      "source": [
        "# ***Function***\n",
        "\n",
        "To define a function in Python, use the \"def\" keyword, followed by the function name, parentheses, and a colon. The body of the function is indented and contains the code to be executed when the function is called.\n",
        "\n",
        "def funname(arguments):"
      ],
      "metadata": {
        "id": "NIqk1UbthyKN"
      }
    },
    {
      "cell_type": "code",
      "source": [
        "def first_function():\n",
        "  '''\n",
        "  This is my first function #it is a comment/docstring\n",
        "  '''\n",
        "  print('This is my first function')\n"
      ],
      "metadata": {
        "id": "otQRCI61inai"
      },
      "execution_count": 148,
      "outputs": []
    },
    {
      "cell_type": "code",
      "source": [
        "first_function() #the function is saved in Python (just like builti-in function)"
      ],
      "metadata": {
        "colab": {
          "base_uri": "https://localhost:8080/"
        },
        "id": "ZM2t-3x4jVy7",
        "outputId": "6ea09572-5495-4ff3-a89d-64d46d0f665a"
      },
      "execution_count": 149,
      "outputs": [
        {
          "output_type": "stream",
          "name": "stdout",
          "text": [
            "This is my first function\n"
          ]
        }
      ]
    },
    {
      "cell_type": "code",
      "source": [
        "def sum_num(a,b):\n",
        "  ''' this function is about summing two numbers '''\n",
        "  c = a + b\n",
        "  print(c)"
      ],
      "metadata": {
        "id": "up5qlrhejdMS"
      },
      "execution_count": 150,
      "outputs": []
    },
    {
      "cell_type": "code",
      "source": [
        "sum_num(10,5)"
      ],
      "metadata": {
        "colab": {
          "base_uri": "https://localhost:8080/"
        },
        "id": "dA3lps1Fj1S1",
        "outputId": "f1a1115a-5cf1-4d81-e5d1-5e5baf50803f"
      },
      "execution_count": 151,
      "outputs": [
        {
          "output_type": "stream",
          "name": "stdout",
          "text": [
            "15\n"
          ]
        }
      ]
    },
    {
      "cell_type": "code",
      "source": [
        "sum_num(10) #error because this function is supposed to have 2 arguements"
      ],
      "metadata": {
        "colab": {
          "base_uri": "https://localhost:8080/",
          "height": 146
        },
        "id": "SFqrN_Hnj6Lr",
        "outputId": "492c38ae-f850-4787-fcc8-a01b88474b6e"
      },
      "execution_count": 153,
      "outputs": [
        {
          "output_type": "error",
          "ename": "TypeError",
          "evalue": "sum_num() missing 1 required positional argument: 'b'",
          "traceback": [
            "\u001b[0;31m---------------------------------------------------------------------------\u001b[0m",
            "\u001b[0;31mTypeError\u001b[0m                                 Traceback (most recent call last)",
            "\u001b[0;32m<ipython-input-153-73234fe22ae8>\u001b[0m in \u001b[0;36m<cell line: 1>\u001b[0;34m()\u001b[0m\n\u001b[0;32m----> 1\u001b[0;31m \u001b[0msum_num\u001b[0m\u001b[0;34m(\u001b[0m\u001b[0;36m10\u001b[0m\u001b[0;34m)\u001b[0m \u001b[0;31m#error because this function is supposed to have 2 arguements\u001b[0m\u001b[0;34m\u001b[0m\u001b[0;34m\u001b[0m\u001b[0m\n\u001b[0m",
            "\u001b[0;31mTypeError\u001b[0m: sum_num() missing 1 required positional argument: 'b'"
          ]
        }
      ]
    },
    {
      "cell_type": "code",
      "source": [
        "sum_num('Big', 'Data') #concatenating a string also can"
      ],
      "metadata": {
        "colab": {
          "base_uri": "https://localhost:8080/"
        },
        "id": "wA-Nan-8kHyI",
        "outputId": "fab0d5bd-d7dd-49aa-c00b-937f25380db0"
      },
      "execution_count": 154,
      "outputs": [
        {
          "output_type": "stream",
          "name": "stdout",
          "text": [
            "BigData\n"
          ]
        }
      ]
    },
    {
      "cell_type": "code",
      "source": [
        "def sum_num(a,b):\n",
        "  ''' this function is about summing two numbers '''\n",
        "  c = float(a) + float(b)\n",
        "  print(c)"
      ],
      "metadata": {
        "id": "uK5xMbHHkSg_"
      },
      "execution_count": 155,
      "outputs": []
    },
    {
      "cell_type": "code",
      "source": [
        "#we has assigned the result to be float\n",
        "sum_num('Big', 'Data')"
      ],
      "metadata": {
        "colab": {
          "base_uri": "https://localhost:8080/",
          "height": 274
        },
        "id": "2tFJToqekgki",
        "outputId": "04994668-2fdf-49d5-e697-806e5ff4188c"
      },
      "execution_count": 157,
      "outputs": [
        {
          "output_type": "error",
          "ename": "ValueError",
          "evalue": "could not convert string to float: 'Big'",
          "traceback": [
            "\u001b[0;31m---------------------------------------------------------------------------\u001b[0m",
            "\u001b[0;31mValueError\u001b[0m                                Traceback (most recent call last)",
            "\u001b[0;32m<ipython-input-157-7e2e114392f5>\u001b[0m in \u001b[0;36m<cell line: 2>\u001b[0;34m()\u001b[0m\n\u001b[1;32m      1\u001b[0m \u001b[0;31m#we has assigned the result to be float\u001b[0m\u001b[0;34m\u001b[0m\u001b[0;34m\u001b[0m\u001b[0m\n\u001b[0;32m----> 2\u001b[0;31m \u001b[0msum_num\u001b[0m\u001b[0;34m(\u001b[0m\u001b[0;34m'Big'\u001b[0m\u001b[0;34m,\u001b[0m \u001b[0;34m'Data'\u001b[0m\u001b[0;34m)\u001b[0m\u001b[0;34m\u001b[0m\u001b[0;34m\u001b[0m\u001b[0m\n\u001b[0m",
            "\u001b[0;32m<ipython-input-155-674e13f9250a>\u001b[0m in \u001b[0;36msum_num\u001b[0;34m(a, b)\u001b[0m\n\u001b[1;32m      1\u001b[0m \u001b[0;32mdef\u001b[0m \u001b[0msum_num\u001b[0m\u001b[0;34m(\u001b[0m\u001b[0ma\u001b[0m\u001b[0;34m,\u001b[0m\u001b[0mb\u001b[0m\u001b[0;34m)\u001b[0m\u001b[0;34m:\u001b[0m\u001b[0;34m\u001b[0m\u001b[0;34m\u001b[0m\u001b[0m\n\u001b[1;32m      2\u001b[0m   \u001b[0;34m''' this function is about summing two numbers '''\u001b[0m\u001b[0;34m\u001b[0m\u001b[0;34m\u001b[0m\u001b[0m\n\u001b[0;32m----> 3\u001b[0;31m   \u001b[0mc\u001b[0m \u001b[0;34m=\u001b[0m \u001b[0mfloat\u001b[0m\u001b[0;34m(\u001b[0m\u001b[0ma\u001b[0m\u001b[0;34m)\u001b[0m \u001b[0;34m+\u001b[0m \u001b[0mfloat\u001b[0m\u001b[0;34m(\u001b[0m\u001b[0mb\u001b[0m\u001b[0;34m)\u001b[0m\u001b[0;34m\u001b[0m\u001b[0;34m\u001b[0m\u001b[0m\n\u001b[0m\u001b[1;32m      4\u001b[0m   \u001b[0mprint\u001b[0m\u001b[0;34m(\u001b[0m\u001b[0mc\u001b[0m\u001b[0;34m)\u001b[0m\u001b[0;34m\u001b[0m\u001b[0;34m\u001b[0m\u001b[0m\n",
            "\u001b[0;31mValueError\u001b[0m: could not convert string to float: 'Big'"
          ]
        }
      ]
    },
    {
      "cell_type": "code",
      "source": [
        "def multi_num(a,b,c):\n",
        "  d = a*b*c\n",
        "  return(d)\n",
        "  #print = display whatever it is\n",
        "  # return = the value can be used later on"
      ],
      "metadata": {
        "id": "3btX2knJklO9"
      },
      "execution_count": 158,
      "outputs": []
    },
    {
      "cell_type": "markdown",
      "source": [
        "**print vs return**\n",
        "\n",
        "To summarize, \"print\" is used to output values to the console for debugging or informational purposes, while \"return\" is used to send a value back from a function to the calling code. If you want to use the result of a function in other parts of your code, you need to use \"return\" to make that value available outside the function.\n",
        "\n",
        "\n",
        "\n",
        "*print just shows the human user a string representing what is going on inside the computer. The computer cannot make use of that printing. return is how a function gives back a value. This value is often unseen by the human user, but it can be used by the computer in further functions.*"
      ],
      "metadata": {
        "id": "NNiF18_olZq_"
      }
    },
    {
      "cell_type": "code",
      "source": [
        "multi_num(10,1,2)"
      ],
      "metadata": {
        "colab": {
          "base_uri": "https://localhost:8080/"
        },
        "id": "yoXJXXkYk6aL",
        "outputId": "a7cd5e76-9716-431b-f23f-ed8243339df8"
      },
      "execution_count": 159,
      "outputs": [
        {
          "output_type": "execute_result",
          "data": {
            "text/plain": [
              "20"
            ]
          },
          "metadata": {},
          "execution_count": 159
        }
      ]
    },
    {
      "cell_type": "code",
      "source": [
        "def num(c):\n",
        "  for i in num(c):\n",
        "    if i % 2== 0:\n",
        "      return('It is an even number',i)\n",
        "\n",
        "    elif i % 2 == 1:\n",
        "      return('It is an odd number',i)\n"
      ],
      "metadata": {
        "id": "sM47tqO-k9Qy"
      },
      "execution_count": 172,
      "outputs": []
    },
    {
      "cell_type": "code",
      "source": [
        "even_num(2)"
      ],
      "metadata": {
        "colab": {
          "base_uri": "https://localhost:8080/"
        },
        "id": "8SL_83oXmicg",
        "outputId": "7acf6e31-2a1f-4bdc-b2f7-7e9e9d1f3a70"
      },
      "execution_count": 173,
      "outputs": [
        {
          "output_type": "execute_result",
          "data": {
            "text/plain": [
              "('It is an even number', 2)"
            ]
          },
          "metadata": {},
          "execution_count": 173
        }
      ]
    },
    {
      "cell_type": "code",
      "source": [
        "def even_num(c):\n",
        "    if c % 2== 0:\n",
        "      return('It is an even number',c)\n",
        "\n",
        "    elif c % 2 == 1:\n",
        "      return('It is an odd number',c)"
      ],
      "metadata": {
        "id": "juTWwlyPmkmx"
      },
      "execution_count": 190,
      "outputs": []
    },
    {
      "cell_type": "code",
      "source": [
        "even_num(3)"
      ],
      "metadata": {
        "colab": {
          "base_uri": "https://localhost:8080/"
        },
        "id": "vt9rM_1sv5ph",
        "outputId": "933b01b5-023e-4c3b-fa55-387398c2c4b9"
      },
      "execution_count": 191,
      "outputs": [
        {
          "output_type": "execute_result",
          "data": {
            "text/plain": [
              "('It is an odd number', 3)"
            ]
          },
          "metadata": {},
          "execution_count": 191
        }
      ]
    },
    {
      "cell_type": "code",
      "source": [
        "def even_odd():\n",
        "  input_num = input('Enter a number')\n",
        "\n",
        "  input_num = int(input_num)\n",
        "\n",
        "  if input_num%2 == 0:\n",
        "    print ('The number is even')\n",
        "\n",
        "  else:\n",
        "    print ('The number is odd')"
      ],
      "metadata": {
        "id": "2IVrl2DnnZsY"
      },
      "execution_count": 201,
      "outputs": []
    },
    {
      "cell_type": "code",
      "source": [
        "even_odd()"
      ],
      "metadata": {
        "colab": {
          "base_uri": "https://localhost:8080/"
        },
        "id": "jUl3zxDlwlo8",
        "outputId": "04c9fac7-f6d7-46df-9c21-40221d2cb612"
      },
      "execution_count": 205,
      "outputs": [
        {
          "output_type": "stream",
          "name": "stdout",
          "text": [
            "Enter a number5\n",
            "The number is odd\n"
          ]
        }
      ]
    },
    {
      "cell_type": "markdown",
      "source": [
        "**Write a function to find the highest value in a list of numbers without using other functions.**"
      ],
      "metadata": {
        "id": "s6EzxkItodiK"
      }
    },
    {
      "cell_type": "code",
      "source": [
        "list_num = [100, 0, 5, 200, -20, 8.8]\n",
        "\n",
        "highest = list_num[0]\n",
        "\n",
        "for i in list_num:\n",
        "  if i > highest:\n",
        "    highest = i\n",
        "\n",
        "print('The highest value in the list is', highest)\n"
      ],
      "metadata": {
        "colab": {
          "base_uri": "https://localhost:8080/"
        },
        "id": "yHLcQzHmncDx",
        "outputId": "060250ff-20c8-436d-9883-07d301da1523"
      },
      "execution_count": 179,
      "outputs": [
        {
          "output_type": "stream",
          "name": "stdout",
          "text": [
            "The highest value in the list is 200\n"
          ]
        }
      ]
    },
    {
      "cell_type": "code",
      "source": [
        "\n",
        "  list_num = [100, 0, 5, 200, -20, 8.8]\n",
        "\n",
        "  highest = list_num[0]\n",
        "  lowest = list_num[0]\n",
        "\n",
        "  for i in list_num:\n",
        "    if i > highest:\n",
        "      highest = i\n",
        "    if i < lowest:\n",
        "      lowest = i\n",
        "\n",
        "print('The highest value in the list is', highest)\n",
        "print('The lowest value in the list is', lowest)\n",
        ""
      ],
      "metadata": {
        "colab": {
          "base_uri": "https://localhost:8080/"
        },
        "id": "cKBlGYJyp990",
        "outputId": "50ee8200-0cfe-40be-ceb0-4c038ad1175f"
      },
      "execution_count": 184,
      "outputs": [
        {
          "output_type": "stream",
          "name": "stdout",
          "text": [
            "The highest value in the list is 200\n",
            "The lowest value in the list is -20\n"
          ]
        }
      ]
    },
    {
      "cell_type": "code",
      "source": [
        "def high_low(list_num):\n",
        "  highest = list_num[0]\n",
        "  lowest = list_num[0]\n",
        "\n",
        "  for i in list_num:\n",
        "    if i > highest:\n",
        "      highest = i\n",
        "    if i < lowest:\n",
        "      lowest = i\n",
        "\n",
        "  print('The highest value in the list is', highest)\n",
        "  print('The lowest value in the list is', lowest)"
      ],
      "metadata": {
        "id": "XFKxKxhksyNM"
      },
      "execution_count": 188,
      "outputs": []
    },
    {
      "cell_type": "code",
      "source": [
        "list_num_1 = [300, 111, 400, -2, 0, 55, 8.8, -99, 1.5, 44]\n",
        "\n",
        "high_low(list_num_1)"
      ],
      "metadata": {
        "colab": {
          "base_uri": "https://localhost:8080/"
        },
        "id": "HjdWkcu7umwI",
        "outputId": "f574296f-cc26-4e54-f2ba-48e56e646602"
      },
      "execution_count": 189,
      "outputs": [
        {
          "output_type": "stream",
          "name": "stdout",
          "text": [
            "The highest value in the list is 400\n",
            "The lowest value in the list is -99\n"
          ]
        }
      ]
    },
    {
      "cell_type": "markdown",
      "source": [
        "Write a function to sum the even numbers in a list of numbers"
      ],
      "metadata": {
        "id": "WbBR_DoCwvcC"
      }
    },
    {
      "cell_type": "code",
      "source": [
        "def sum_even(list_num):\n",
        "  count_even = 0\n",
        "\n",
        "  for i in list_num:\n",
        "    if i % 2 == 0:\n",
        "      count_even = count_even + i\n",
        "\n",
        "  print('The total of even numbers are:', count_even)"
      ],
      "metadata": {
        "id": "txM-rCuUvJvn"
      },
      "execution_count": 197,
      "outputs": []
    },
    {
      "cell_type": "code",
      "source": [
        "sum_even(list_num_1)"
      ],
      "metadata": {
        "colab": {
          "base_uri": "https://localhost:8080/"
        },
        "id": "CIaHfuqdxarI",
        "outputId": "da80bb7a-b6b0-457c-a6c1-9fe2c3553aec"
      },
      "execution_count": 198,
      "outputs": [
        {
          "output_type": "stream",
          "name": "stdout",
          "text": [
            "The total of even numbers are: 742\n"
          ]
        }
      ]
    },
    {
      "cell_type": "code",
      "source": [
        "#find the missing value in the list below\n",
        "\n",
        "list_missing = [1,4,3,2,5,8,7] #sort first\n",
        "#use index + 1\n"
      ],
      "metadata": {
        "id": "txQsAQBOxffr"
      },
      "execution_count": null,
      "outputs": []
    }
  ]
}